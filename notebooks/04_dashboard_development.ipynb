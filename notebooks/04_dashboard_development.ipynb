{
 "cells": [
  {
   "cell_type": "markdown",
   "id": "4b2b952c-d585-4758-bed3-e82edad48a11",
   "metadata": {},
   "source": [
    "# Dashboard Development"
   ]
  },
  {
   "cell_type": "markdown",
   "id": "00a68862-8cd9-4f65-9cdc-97878528e5c7",
   "metadata": {},
   "source": [
    "## Setup and Streamlit Import Test"
   ]
  },
  {
   "cell_type": "code",
   "execution_count": 1,
   "id": "04a6567c-55f0-4c27-a2de-70fbdc9a72d8",
   "metadata": {},
   "outputs": [
    {
     "name": "stdout",
     "output_type": "stream",
     "text": [
      "Libraries imported successfully\n",
      "Streamlit version: 1.50.0\n",
      "Testing Streamlit components\n"
     ]
    }
   ],
   "source": [
    "# Verify Streamlit works and import necessary libraries\n",
    "\n",
    "import streamlit as st\n",
    "import pandas as pd\n",
    "import numpy as np\n",
    "import matplotlib.pyplot as plt\n",
    "import seaborn as sns\n",
    "from scipy.stats import norm\n",
    "import math\n",
    "import sys\n",
    "import os\n",
    "\n",
    "# Add src directory to path for custom modules\n",
    "sys.path.append('../src')\n",
    "\n",
    "print(\"Libraries imported successfully\")\n",
    "print(\"Streamlit version:\", st.__version__)\n",
    "\n",
    "# Test basic Streamlit components\n",
    "print(\"Testing Streamlit components\")"
   ]
  },
  {
   "cell_type": "markdown",
   "id": "7ab45aea-6614-47d7-be45-d58cb0ec404f",
   "metadata": {},
   "source": [
    "## Create Dashboard Layout"
   ]
  },
  {
   "cell_type": "code",
   "execution_count": 2,
   "id": "4911ee7f-7ef0-4b45-ac4a-fa8f1384b9c1",
   "metadata": {},
   "outputs": [
    {
     "name": "stderr",
     "output_type": "stream",
     "text": [
      "2025-10-28 14:29:47.302 WARNING streamlit.runtime.scriptrunner_utils.script_run_context: Thread 'MainThread': missing ScriptRunContext! This warning can be ignored when running in bare mode.\n",
      "2025-10-28 14:29:47.304 WARNING streamlit.runtime.state.session_state_proxy: Session state does not function when running a script without `streamlit run`\n",
      "2025-10-28 14:29:47.304 WARNING streamlit.runtime.scriptrunner_utils.script_run_context: Thread 'MainThread': missing ScriptRunContext! This warning can be ignored when running in bare mode.\n",
      "2025-10-28 14:29:47.305 WARNING streamlit.runtime.scriptrunner_utils.script_run_context: Thread 'MainThread': missing ScriptRunContext! This warning can be ignored when running in bare mode.\n",
      "2025-10-28 14:29:47.306 WARNING streamlit.runtime.scriptrunner_utils.script_run_context: Thread 'MainThread': missing ScriptRunContext! This warning can be ignored when running in bare mode.\n",
      "2025-10-28 14:29:47.307 WARNING streamlit.runtime.scriptrunner_utils.script_run_context: Thread 'MainThread': missing ScriptRunContext! This warning can be ignored when running in bare mode.\n",
      "2025-10-28 14:29:47.308 WARNING streamlit.runtime.scriptrunner_utils.script_run_context: Thread 'MainThread': missing ScriptRunContext! This warning can be ignored when running in bare mode.\n",
      "2025-10-28 14:29:47.308 WARNING streamlit.runtime.scriptrunner_utils.script_run_context: Thread 'MainThread': missing ScriptRunContext! This warning can be ignored when running in bare mode.\n",
      "2025-10-28 14:29:47.655 \n",
      "  \u001b[33m\u001b[1mWarning:\u001b[0m to view this Streamlit app on a browser, run it with the following\n",
      "  command:\n",
      "\n",
      "    streamlit run /opt/anaconda3/envs/ab-testing/lib/python3.9/site-packages/ipykernel_launcher.py [ARGUMENTS]\n",
      "2025-10-28 14:29:47.656 Thread 'MainThread': missing ScriptRunContext! This warning can be ignored when running in bare mode.\n",
      "2025-10-28 14:29:47.656 Thread 'MainThread': missing ScriptRunContext! This warning can be ignored when running in bare mode.\n",
      "2025-10-28 14:29:47.657 Thread 'MainThread': missing ScriptRunContext! This warning can be ignored when running in bare mode.\n",
      "2025-10-28 14:29:47.658 Thread 'MainThread': missing ScriptRunContext! This warning can be ignored when running in bare mode.\n",
      "2025-10-28 14:29:47.658 Thread 'MainThread': missing ScriptRunContext! This warning can be ignored when running in bare mode.\n",
      "2025-10-28 14:29:47.659 Thread 'MainThread': missing ScriptRunContext! This warning can be ignored when running in bare mode.\n",
      "2025-10-28 14:29:47.660 Thread 'MainThread': missing ScriptRunContext! This warning can be ignored when running in bare mode.\n",
      "2025-10-28 14:29:47.661 Thread 'MainThread': missing ScriptRunContext! This warning can be ignored when running in bare mode.\n",
      "2025-10-28 14:29:47.661 Thread 'MainThread': missing ScriptRunContext! This warning can be ignored when running in bare mode.\n",
      "2025-10-28 14:29:47.662 Thread 'MainThread': missing ScriptRunContext! This warning can be ignored when running in bare mode.\n",
      "2025-10-28 14:29:47.663 Thread 'MainThread': missing ScriptRunContext! This warning can be ignored when running in bare mode.\n",
      "2025-10-28 14:29:47.663 Thread 'MainThread': missing ScriptRunContext! This warning can be ignored when running in bare mode.\n",
      "2025-10-28 14:29:47.664 Thread 'MainThread': missing ScriptRunContext! This warning can be ignored when running in bare mode.\n",
      "2025-10-28 14:29:47.664 Thread 'MainThread': missing ScriptRunContext! This warning can be ignored when running in bare mode.\n",
      "2025-10-28 14:29:47.665 Thread 'MainThread': missing ScriptRunContext! This warning can be ignored when running in bare mode.\n"
     ]
    },
    {
     "name": "stdout",
     "output_type": "stream",
     "text": [
      "Dashboard layout structure created\n"
     ]
    }
   ],
   "source": [
    "#  Create the basic structure of the A/B testing dashboard\n",
    "\n",
    "# Initialize session state for data persistence\n",
    "if 'data_loaded' not in st.session_state:\n",
    "    st.session_state.data_loaded = False\n",
    "if 'df' not in st.session_state:\n",
    "    st.session_state.df = None\n",
    "\n",
    "# Main title and description\n",
    "st.title(\"A/B Testing Analysis Dashboard\")\n",
    "st.markdown(\"Upload your A/B test data to analyze statistical significance and get business recommendations\")\n",
    "\n",
    "# Create sidebar for navigation and inputs\n",
    "st.sidebar.title(\"Navigation\")\n",
    "st.sidebar.markdown(\"Configure your analysis settings\")\n",
    "\n",
    "# Main content area tabs\n",
    "tab1, tab2, tab3 = st.tabs([\"Data Upload\", \"Statistical Analysis\", \"Visualizations\"])\n",
    "\n",
    "print(\"Dashboard layout structure created\")"
   ]
  },
  {
   "cell_type": "markdown",
   "id": "890ea204-842d-48a2-aff6-137a01091759",
   "metadata": {},
   "source": [
    "## Data Upload Functionality"
   ]
  },
  {
   "cell_type": "code",
   "execution_count": 3,
   "id": "bbfefd01-ee80-48c0-a928-3ae12e011351",
   "metadata": {},
   "outputs": [
    {
     "name": "stderr",
     "output_type": "stream",
     "text": [
      "2025-10-28 14:34:20.189 Thread 'MainThread': missing ScriptRunContext! This warning can be ignored when running in bare mode.\n",
      "2025-10-28 14:34:20.190 Thread 'MainThread': missing ScriptRunContext! This warning can be ignored when running in bare mode.\n",
      "2025-10-28 14:34:20.191 Thread 'MainThread': missing ScriptRunContext! This warning can be ignored when running in bare mode.\n",
      "2025-10-28 14:34:20.192 Thread 'MainThread': missing ScriptRunContext! This warning can be ignored when running in bare mode.\n",
      "2025-10-28 14:34:20.192 Thread 'MainThread': missing ScriptRunContext! This warning can be ignored when running in bare mode.\n",
      "2025-10-28 14:34:20.193 Thread 'MainThread': missing ScriptRunContext! This warning can be ignored when running in bare mode.\n",
      "2025-10-28 14:34:20.194 Thread 'MainThread': missing ScriptRunContext! This warning can be ignored when running in bare mode.\n",
      "2025-10-28 14:34:20.194 Thread 'MainThread': missing ScriptRunContext! This warning can be ignored when running in bare mode.\n",
      "2025-10-28 14:34:20.195 Thread 'MainThread': missing ScriptRunContext! This warning can be ignored when running in bare mode.\n",
      "2025-10-28 14:34:20.196 Thread 'MainThread': missing ScriptRunContext! This warning can be ignored when running in bare mode.\n",
      "2025-10-28 14:34:20.196 Thread 'MainThread': missing ScriptRunContext! This warning can be ignored when running in bare mode.\n",
      "2025-10-28 14:34:20.197 Thread 'MainThread': missing ScriptRunContext! This warning can be ignored when running in bare mode.\n"
     ]
    },
    {
     "name": "stdout",
     "output_type": "stream",
     "text": [
      "Data upload interface created\n"
     ]
    }
   ],
   "source": [
    "# Create file uploader and data validation\n",
    "\n",
    "with tab1:\n",
    "    st.header(\"Data Upload and Validation\")\n",
    "    \n",
    "    # File upload section\n",
    "    uploaded_file = st.file_uploader(\n",
    "        \"Upload your A/B test data (CSV format)\", \n",
    "        type=['csv'],\n",
    "        help=\"Your CSV should contain columns for test groups and conversions\"\n",
    "    )\n",
    "    \n",
    "    if uploaded_file is not None:\n",
    "        try:\n",
    "            # Load the data\n",
    "            df = pd.read_csv(uploaded_file)\n",
    "            st.session_state.df = df\n",
    "            st.session_state.data_loaded = True\n",
    "            \n",
    "            # Display data info\n",
    "            st.success(f\"Data loaded successfully: {df.shape[0]} rows, {df.shape[1]} columns\")\n",
    "            \n",
    "            # Show data preview\n",
    "            st.subheader(\"Data Preview\")\n",
    "            st.dataframe(df.head(10))\n",
    "            \n",
    "            # Show basic information\n",
    "            st.subheader(\"Data Information\")\n",
    "            col1, col2 = st.columns(2)\n",
    "            \n",
    "            with col1:\n",
    "                st.write(\"Column Names:\")\n",
    "                st.write(df.columns.tolist())\n",
    "                \n",
    "            with col2:\n",
    "                st.write(\"Data Types:\")\n",
    "                st.write(df.dtypes)\n",
    "                \n",
    "        except Exception as e:\n",
    "            st.error(f\"Error loading file: {str(e)}\")\n",
    "    else:\n",
    "        st.info(\"Please upload a CSV file to begin analysis\")\n",
    "        \n",
    "print(\"Data upload interface created\")"
   ]
  },
  {
   "cell_type": "markdown",
   "id": "b3a5d1a8-1ba9-48f0-8837-909769925227",
   "metadata": {},
   "source": [
    "## Statistical Analysis Display"
   ]
  },
  {
   "cell_type": "code",
   "execution_count": 4,
   "id": "ff8b3046-d866-4005-88cd-a277a9bde37a",
   "metadata": {},
   "outputs": [
    {
     "name": "stderr",
     "output_type": "stream",
     "text": [
      "2025-10-28 14:35:32.875 Thread 'MainThread': missing ScriptRunContext! This warning can be ignored when running in bare mode.\n",
      "2025-10-28 14:35:32.876 Thread 'MainThread': missing ScriptRunContext! This warning can be ignored when running in bare mode.\n",
      "2025-10-28 14:35:32.877 Thread 'MainThread': missing ScriptRunContext! This warning can be ignored when running in bare mode.\n",
      "2025-10-28 14:35:32.877 Thread 'MainThread': missing ScriptRunContext! This warning can be ignored when running in bare mode.\n",
      "2025-10-28 14:35:32.878 Thread 'MainThread': missing ScriptRunContext! This warning can be ignored when running in bare mode.\n",
      "2025-10-28 14:35:32.878 Thread 'MainThread': missing ScriptRunContext! This warning can be ignored when running in bare mode.\n",
      "2025-10-28 14:35:32.879 Thread 'MainThread': missing ScriptRunContext! This warning can be ignored when running in bare mode.\n"
     ]
    },
    {
     "name": "stdout",
     "output_type": "stream",
     "text": [
      "Statistical analysis interface created\n"
     ]
    }
   ],
   "source": [
    "# Display statistical results when data is available\n",
    "\n",
    "with tab2:\n",
    "    st.header(\"Statistical Analysis Results\")\n",
    "    \n",
    "    if st.session_state.data_loaded:\n",
    "        df = st.session_state.df\n",
    "        \n",
    "        # Check if required columns exist\n",
    "        required_columns = ['test_group', 'converted']\n",
    "        missing_columns = [col for col in required_columns if col not in df.columns]\n",
    "        \n",
    "        if missing_columns:\n",
    "            st.error(f\"Missing required columns: {missing_columns}\")\n",
    "            st.info(\"Please ensure your data has 'test_group' and 'converted' columns\")\n",
    "        else:\n",
    "            # Clean and prepare data\n",
    "            df_clean = df.copy()\n",
    "            if df_clean['converted'].dtype == 'bool':\n",
    "                df_clean['converted'] = df_clean['converted'].astype(int)\n",
    "            \n",
    "            # Calculate basic metrics\n",
    "            conversion_summary = df_clean.groupby('test_group').agg({\n",
    "                'converted': ['count', 'sum', 'mean']\n",
    "            })\n",
    "            conversion_summary.columns = ['user_count', 'conversions', 'conversion_rate']\n",
    "            \n",
    "            # Display metrics\n",
    "            st.subheader(\"Conversion Metrics\")\n",
    "            col1, col2, col3 = st.columns(3)\n",
    "            \n",
    "            # Extract values for each group\n",
    "            groups = conversion_summary.index.tolist()\n",
    "            if len(groups) >= 2:\n",
    "                group_a, group_b = groups[0], groups[1]\n",
    "                \n",
    "                with col1:\n",
    "                    st.metric(\n",
    "                        f\"Group {group_a} Conversion Rate\",\n",
    "                        f\"{conversion_summary.loc[group_a, 'conversion_rate']:.3%}\",\n",
    "                        help=f\"{conversion_summary.loc[group_a, 'conversions']} conversions out of {conversion_summary.loc[group_a, 'user_count']} users\"\n",
    "                    )\n",
    "                \n",
    "                with col2:\n",
    "                    st.metric(\n",
    "                        f\"Group {group_b} Conversion Rate\", \n",
    "                        f\"{conversion_summary.loc[group_b, 'conversion_rate']:.3%}\",\n",
    "                        help=f\"{conversion_summary.loc[group_b, 'conversions']} conversions out of {conversion_summary.loc[group_b, 'user_count']} users\"\n",
    "                    )\n",
    "                \n",
    "                with col3:\n",
    "                    difference = conversion_summary.loc[group_b, 'conversion_rate'] - conversion_summary.loc[group_a, 'conversion_rate']\n",
    "                    st.metric(\n",
    "                        \"Difference\",\n",
    "                        f\"{difference:.3%}\",\n",
    "                        delta=f\"{difference:.3%}\" if difference != 0 else None\n",
    "                    )\n",
    "            \n",
    "            # Placeholder for statistical test results\n",
    "            st.subheader(\"Statistical Significance\")\n",
    "            st.info(\"Statistical tests will be implemented in the next step\")\n",
    "            \n",
    "    else:\n",
    "        st.warning(\"Please upload data in the 'Data Upload' tab to see analysis results\")\n",
    "\n",
    "print(\"Statistical analysis interface created\")"
   ]
  },
  {
   "cell_type": "markdown",
   "id": "819772b8-8bab-4a9a-b96a-ea92dd5547ad",
   "metadata": {},
   "source": [
    "## Visualization Prototype"
   ]
  },
  {
   "cell_type": "code",
   "execution_count": 5,
   "id": "c7634a21-e00a-4238-bb01-9fbc8668e94a",
   "metadata": {},
   "outputs": [
    {
     "name": "stderr",
     "output_type": "stream",
     "text": [
      "2025-10-28 14:36:22.383 Thread 'MainThread': missing ScriptRunContext! This warning can be ignored when running in bare mode.\n",
      "2025-10-28 14:36:22.384 Thread 'MainThread': missing ScriptRunContext! This warning can be ignored when running in bare mode.\n",
      "2025-10-28 14:36:22.385 Thread 'MainThread': missing ScriptRunContext! This warning can be ignored when running in bare mode.\n",
      "2025-10-28 14:36:22.386 Thread 'MainThread': missing ScriptRunContext! This warning can be ignored when running in bare mode.\n",
      "2025-10-28 14:36:22.386 Thread 'MainThread': missing ScriptRunContext! This warning can be ignored when running in bare mode.\n",
      "2025-10-28 14:36:22.387 Thread 'MainThread': missing ScriptRunContext! This warning can be ignored when running in bare mode.\n",
      "2025-10-28 14:36:22.387 Thread 'MainThread': missing ScriptRunContext! This warning can be ignored when running in bare mode.\n"
     ]
    },
    {
     "name": "stdout",
     "output_type": "stream",
     "text": [
      "Visualization interface created\n"
     ]
    }
   ],
   "source": [
    "# Create charts and graphs for data visualization\n",
    "\n",
    "with tab3:\n",
    "    st.header(\"Data Visualizations\")\n",
    "    \n",
    "    if st.session_state.data_loaded:\n",
    "        df = st.session_state.df\n",
    "        \n",
    "        if 'test_group' in df.columns and 'converted' in df.columns:\n",
    "            # Prepare data for visualization\n",
    "            df_viz = df.copy()\n",
    "            if df_viz['converted'].dtype == 'bool':\n",
    "                df_viz['converted'] = df_viz['converted'].astype(int)\n",
    "            \n",
    "            # Create conversion rate chart\n",
    "            st.subheader(\"Conversion Rate Comparison\")\n",
    "            \n",
    "            conversion_rates = df_viz.groupby('test_group')['converted'].mean()\n",
    "            \n",
    "            fig, ax = plt.subplots(figsize=(10, 6))\n",
    "            bars = ax.bar(conversion_rates.index, conversion_rates.values, \n",
    "                         color=['lightblue', 'lightcoral'], alpha=0.7)\n",
    "            \n",
    "            ax.set_title('Conversion Rates by Test Group', fontsize=14, fontweight='bold')\n",
    "            ax.set_ylabel('Conversion Rate', fontsize=12)\n",
    "            ax.set_xlabel('Test Group', fontsize=12)\n",
    "            ax.grid(axis='y', alpha=0.3)\n",
    "            \n",
    "            # Add value labels on bars\n",
    "            for bar, rate in zip(bars, conversion_rates.values):\n",
    "                height = bar.get_height()\n",
    "                ax.text(bar.get_x() + bar.get_width()/2., height + 0.001,\n",
    "                       f'{rate:.3f}', ha='center', va='bottom', fontweight='bold')\n",
    "            \n",
    "            st.pyplot(fig)\n",
    "            \n",
    "            # User distribution chart\n",
    "            st.subheader(\"User Distribution\")\n",
    "            \n",
    "            user_counts = df_viz['test_group'].value_counts()\n",
    "            \n",
    "            fig2, ax2 = plt.subplots(figsize=(10, 6))\n",
    "            bars2 = ax2.bar(user_counts.index, user_counts.values, \n",
    "                           color=['lightgreen', 'orange'], alpha=0.7)\n",
    "            \n",
    "            ax2.set_title('User Distribution by Test Group', fontsize=14, fontweight='bold')\n",
    "            ax2.set_ylabel('Number of Users', fontsize=12)\n",
    "            ax2.set_xlabel('Test Group', fontsize=12)\n",
    "            ax2.grid(axis='y', alpha=0.3)\n",
    "            \n",
    "            # Add value labels on bars\n",
    "            for bar, count in zip(bars2, user_counts.values):\n",
    "                height = bar.get_height()\n",
    "                ax2.text(bar.get_x() + bar.get_width()/2., height + 50,\n",
    "                        f'{count:,}', ha='center', va='bottom', fontweight='bold')\n",
    "            \n",
    "            st.pyplot(fig2)\n",
    "            \n",
    "        else:\n",
    "            st.error(\"Required columns 'test_group' and 'converted' not found in data\")\n",
    "    else:\n",
    "        st.warning(\"Please upload data in the 'Data Upload' tab to see visualizations\")\n",
    "\n",
    "print(\"Visualization interface created\")"
   ]
  },
  {
   "cell_type": "markdown",
   "id": "23e23638-046b-4ddd-afbd-a6715b95adc0",
   "metadata": {},
   "source": [
    "## Test the Dashboard"
   ]
  },
  {
   "cell_type": "code",
   "execution_count": 6,
   "id": "c006bb52-3c6a-4300-8337-22e4e5313754",
   "metadata": {},
   "outputs": [
    {
     "name": "stderr",
     "output_type": "stream",
     "text": [
      "2025-10-28 14:37:21.220 Thread 'MainThread': missing ScriptRunContext! This warning can be ignored when running in bare mode.\n",
      "2025-10-28 14:37:21.222 Thread 'MainThread': missing ScriptRunContext! This warning can be ignored when running in bare mode.\n",
      "2025-10-28 14:37:21.223 Thread 'MainThread': missing ScriptRunContext! This warning can be ignored when running in bare mode.\n",
      "2025-10-28 14:37:21.224 Thread 'MainThread': missing ScriptRunContext! This warning can be ignored when running in bare mode.\n",
      "2025-10-28 14:37:21.225 Thread 'MainThread': missing ScriptRunContext! This warning can be ignored when running in bare mode.\n",
      "2025-10-28 14:37:21.225 Thread 'MainThread': missing ScriptRunContext! This warning can be ignored when running in bare mode.\n",
      "2025-10-28 14:37:21.226 Thread 'MainThread': missing ScriptRunContext! This warning can be ignored when running in bare mode.\n",
      "2025-10-28 14:37:21.227 Thread 'MainThread': missing ScriptRunContext! This warning can be ignored when running in bare mode.\n",
      "2025-10-28 14:37:21.227 Thread 'MainThread': missing ScriptRunContext! This warning can be ignored when running in bare mode.\n",
      "2025-10-28 14:37:21.228 Thread 'MainThread': missing ScriptRunContext! This warning can be ignored when running in bare mode.\n",
      "2025-10-28 14:37:21.229 Thread 'MainThread': missing ScriptRunContext! This warning can be ignored when running in bare mode.\n",
      "2025-10-28 14:37:21.230 Thread 'MainThread': missing ScriptRunContext! This warning can be ignored when running in bare mode.\n",
      "2025-10-28 14:37:21.230 Thread 'MainThread': missing ScriptRunContext! This warning can be ignored when running in bare mode.\n",
      "2025-10-28 14:37:21.231 Thread 'MainThread': missing ScriptRunContext! This warning can be ignored when running in bare mode.\n",
      "2025-10-28 14:37:21.231 Thread 'MainThread': missing ScriptRunContext! This warning can be ignored when running in bare mode.\n",
      "2025-10-28 14:37:21.232 Thread 'MainThread': missing ScriptRunContext! This warning can be ignored when running in bare mode.\n",
      "2025-10-28 14:37:21.233 Thread 'MainThread': missing ScriptRunContext! This warning can be ignored when running in bare mode.\n",
      "2025-10-28 14:37:21.233 Thread 'MainThread': missing ScriptRunContext! This warning can be ignored when running in bare mode.\n",
      "2025-10-28 14:37:21.234 Thread 'MainThread': missing ScriptRunContext! This warning can be ignored when running in bare mode.\n"
     ]
    },
    {
     "name": "stdout",
     "output_type": "stream",
     "text": [
      "Dashboard testing components added\n",
      "Notebook 4: Dashboard Development prototype completed\n"
     ]
    }
   ],
   "source": [
    "#  Test the dashboard functionality with sample data\n",
    "\n",
    "st.sidebar.header(\"Test Configuration\")\n",
    "st.sidebar.markdown(\"Use these options to test the dashboard\")\n",
    "\n",
    "# Add a test button to load sample data\n",
    "if st.sidebar.button(\"Load Sample Data for Testing\"):\n",
    "    # Create sample data similar to your marketing dataset\n",
    "    sample_data = {\n",
    "        'user_id': range(1000),\n",
    "        'test_group': np.random.choice(['ad', 'psa'], 1000),\n",
    "        'converted': np.random.choice([0, 1], 1000, p=[0.97, 0.03]),\n",
    "        'total_ads': np.random.randint(1, 100, 1000)\n",
    "    }\n",
    "    \n",
    "    sample_df = pd.DataFrame(sample_data)\n",
    "    st.session_state.df = sample_df\n",
    "    st.session_state.data_loaded = True\n",
    "    st.success(\"Sample data loaded successfully!\")\n",
    "    st.rerun()\n",
    "\n",
    "# Display current status\n",
    "st.sidebar.subheader(\"Current Status\")\n",
    "if st.session_state.data_loaded:\n",
    "    st.sidebar.success(\"Data Loaded\")\n",
    "    st.sidebar.write(f\"Rows: {st.session_state.df.shape[0]}\")\n",
    "    st.sidebar.write(f\"Columns: {st.session_state.df.shape[1]}\")\n",
    "else:\n",
    "    st.sidebar.info(\"No Data Loaded\")\n",
    "\n",
    "print(\"Dashboard testing components added\")\n",
    "print(\"Notebook 4: Dashboard Development prototype completed\")"
   ]
  }
 ],
 "metadata": {
  "kernelspec": {
   "display_name": "Python 3 (ipykernel)",
   "language": "python",
   "name": "python3"
  },
  "language_info": {
   "codemirror_mode": {
    "name": "ipython",
    "version": 3
   },
   "file_extension": ".py",
   "mimetype": "text/x-python",
   "name": "python",
   "nbconvert_exporter": "python",
   "pygments_lexer": "ipython3",
   "version": "3.9.23"
  }
 },
 "nbformat": 4,
 "nbformat_minor": 5
}
