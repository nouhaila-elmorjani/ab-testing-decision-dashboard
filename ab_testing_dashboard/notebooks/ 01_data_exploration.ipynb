{
 "cells": [
  {
   "cell_type": "markdown",
   "id": "1f04e8ac-0c3e-4652-be6c-e43a1efe830b",
   "metadata": {},
   "source": [
    "# Data Exploration & Cleaning"
   ]
  },
  {
   "cell_type": "markdown",
   "id": "81fe797c-a9af-43fa-bf77-e903e7323e3e",
   "metadata": {},
   "source": [
    "##  Import Libraries and Load Data"
   ]
  },
  {
   "cell_type": "code",
   "execution_count": 1,
   "id": "9720090b-f0b2-495b-8ca8-43ad75d641b4",
   "metadata": {},
   "outputs": [
    {
     "name": "stdout",
     "output_type": "stream",
     "text": [
      "All libraries imported successfully\n",
      "Python version: 3.9.23\n",
      "Current working directory: /Users/mac/Desktop/ab_testing_dashboard/notebooks\n",
      "Dataset loaded successfully: 588101 rows, 7 columns\n"
     ]
    }
   ],
   "source": [
    "# Import required libraries\n",
    "import pandas as pd\n",
    "import numpy as np\n",
    "import matplotlib.pyplot as plt\n",
    "import seaborn as sns\n",
    "import os\n",
    "import sys\n",
    "\n",
    "print(\"All libraries imported successfully\")\n",
    "print(f\"Python version: {sys.version.split()[0]}\")\n",
    "print(f\"Current working directory: {os.getcwd()}\")\n",
    "\n",
    "# Load the marketing A/B test data\n",
    "df = pd.read_csv('../data/marketing_AB.csv')\n",
    "print(f\"Dataset loaded successfully: {df.shape[0]} rows, {df.shape[1]} columns\")"
   ]
  },
  {
   "cell_type": "markdown",
   "id": "6eda586b-fdd6-4c43-8a95-cc0a7affba4a",
   "metadata": {},
   "source": [
    "##  Initial Data Inspection"
   ]
  },
  {
   "cell_type": "code",
   "execution_count": 2,
   "id": "502f2f18-26b9-478b-b191-1c769c738a05",
   "metadata": {},
   "outputs": [
    {
     "name": "stdout",
     "output_type": "stream",
     "text": [
      "First look at the data:\n",
      "   Unnamed: 0  user id test group  converted  total ads most ads day  \\\n",
      "0           0  1069124         ad      False        130       Monday   \n",
      "1           1  1119715         ad      False         93      Tuesday   \n",
      "2           2  1144181         ad      False         21      Tuesday   \n",
      "3           3  1435133         ad      False        355      Tuesday   \n",
      "4           4  1015700         ad      False        276       Friday   \n",
      "\n",
      "   most ads hour  \n",
      "0             20  \n",
      "1             22  \n",
      "2             18  \n",
      "3             10  \n",
      "4             14  \n",
      "\n",
      "Column names in the dataset:\n",
      "['Unnamed: 0', 'user id', 'test group', 'converted', 'total ads', 'most ads day', 'most ads hour']\n",
      "\n",
      "Basic information about each column:\n",
      "<class 'pandas.core.frame.DataFrame'>\n",
      "RangeIndex: 588101 entries, 0 to 588100\n",
      "Data columns (total 7 columns):\n",
      " #   Column         Non-Null Count   Dtype \n",
      "---  ------         --------------   ----- \n",
      " 0   Unnamed: 0     588101 non-null  int64 \n",
      " 1   user id        588101 non-null  int64 \n",
      " 2   test group     588101 non-null  object\n",
      " 3   converted      588101 non-null  bool  \n",
      " 4   total ads      588101 non-null  int64 \n",
      " 5   most ads day   588101 non-null  object\n",
      " 6   most ads hour  588101 non-null  int64 \n",
      "dtypes: bool(1), int64(4), object(2)\n",
      "memory usage: 27.5+ MB\n",
      "None\n"
     ]
    }
   ],
   "source": [
    "# Display first few rows to understand the data structure\n",
    "print(\"First look at the data:\")\n",
    "print(df.head())\n",
    "\n",
    "print(\"\\nColumn names in the dataset:\")\n",
    "print(df.columns.tolist())\n",
    "\n",
    "print(\"\\nBasic information about each column:\")\n",
    "print(df.info())"
   ]
  },
  {
   "cell_type": "markdown",
   "id": "1b0266bb-7274-4e3f-9e4e-7f590d2448a8",
   "metadata": {},
   "source": [
    "## Data Quality Check"
   ]
  },
  {
   "cell_type": "code",
   "execution_count": 3,
   "id": "c3d592f9-3e33-49bc-ae49-bbc3ee2042a9",
   "metadata": {},
   "outputs": [
    {
     "name": "stdout",
     "output_type": "stream",
     "text": [
      "Checking for missing values:\n",
      "Unnamed: 0       0\n",
      "user id          0\n",
      "test group       0\n",
      "converted        0\n",
      "total ads        0\n",
      "most ads day     0\n",
      "most ads hour    0\n",
      "dtype: int64\n",
      "\n",
      "Checking for duplicate rows:\n",
      "Number of duplicate rows: 0\n"
     ]
    }
   ],
   "source": [
    "# Check for data quality issues\n",
    "print(\"Checking for missing values:\")\n",
    "missing_values = df.isnull().sum()\n",
    "print(missing_values)\n",
    "\n",
    "print(\"\\nChecking for duplicate rows:\")\n",
    "duplicate_count = df.duplicated().sum()\n",
    "print(f\"Number of duplicate rows: {duplicate_count}\")\n",
    "\n",
    "# Remove duplicates if any exist\n",
    "if duplicate_count > 0:\n",
    "    df = df.drop_duplicates()\n",
    "    print(f\"Removed {duplicate_count} duplicate rows\")"
   ]
  },
  {
   "cell_type": "markdown",
   "id": "9ef3e19f-21c6-4e65-8a11-8d8425532573",
   "metadata": {},
   "source": [
    "## Data Cleaning"
   ]
  },
  {
   "cell_type": "code",
   "execution_count": 4,
   "id": "ba33bac7-9066-4ba6-a7bc-249d07245703",
   "metadata": {},
   "outputs": [
    {
     "name": "stdout",
     "output_type": "stream",
     "text": [
      "Cleaning column names\n",
      "New column names: ['unnamed:_0', 'user_id', 'test_group', 'converted', 'total_ads', 'most_ads_day', 'most_ads_hour']\n",
      "Removed unnecessary index column: unnamed:_0\n",
      "Converted 'converted' column from boolean to integer (0/1)\n",
      "\n",
      "Basic statistics for numerical columns:\n",
      "            user_id      converted      total_ads  most_ads_hour\n",
      "count  5.881010e+05  588101.000000  588101.000000  588101.000000\n",
      "mean   1.310692e+06       0.025239      24.820876      14.469061\n",
      "std    2.022260e+05       0.156850      43.715181       4.834634\n",
      "min    9.000000e+05       0.000000       1.000000       0.000000\n",
      "25%    1.143190e+06       0.000000       4.000000      11.000000\n",
      "50%    1.313725e+06       0.000000      13.000000      14.000000\n",
      "75%    1.484088e+06       0.000000      27.000000      18.000000\n",
      "max    1.654483e+06       1.000000    2065.000000      23.000000\n"
     ]
    }
   ],
   "source": [
    "# Clean column names for easier processing\n",
    "print(\"Cleaning column names\")\n",
    "df.columns = [col.strip().replace(' ', '_').lower() for col in df.columns]\n",
    "print(\"New column names:\", df.columns.tolist())\n",
    "\n",
    "# Remove unnecessary index column\n",
    "if 'unnamed:_0' in df.columns:\n",
    "    df = df.drop('unnamed:_0', axis=1)\n",
    "    print(\"Removed unnecessary index column: unnamed:_0\")\n",
    "#Convert boolean to integer\n",
    "df['converted'] = df['converted'].astype(int)\n",
    "print(\"Converted 'converted' column from boolean to integer (0/1)\")\n",
    "\n",
    "# Display basic statistics for numerical columns\n",
    "print(\"\\nBasic statistics for numerical columns:\")\n",
    "print(df.describe())"
   ]
  },
  {
   "cell_type": "markdown",
   "id": "6cd8f1f1-27b6-4ac2-8de6-5a2544b43a8e",
   "metadata": {},
   "source": [
    "## Understanding Test Groups"
   ]
  },
  {
   "cell_type": "code",
   "execution_count": 5,
   "id": "347d9d62-d6ab-49fd-9845-ccb3d57cf074",
   "metadata": {},
   "outputs": [
    {
     "name": "stdout",
     "output_type": "stream",
     "text": [
      "Test group distribution:\n",
      "test_group\n",
      "ad     564577\n",
      "psa     23524\n",
      "Name: count, dtype: int64\n",
      "\n",
      "Unique values in each column:\n",
      "user_id: 588101 unique values\n",
      "test_group: 2 unique values\n",
      "converted: 2 unique values\n",
      "total_ads: 807 unique values\n",
      "most_ads_day: 7 unique values\n",
      "most_ads_hour: 24 unique values\n"
     ]
    }
   ],
   "source": [
    "# Analyze the distribution of test groups\n",
    "print(\"Test group distribution:\")\n",
    "group_distribution = df['test_group'].value_counts()\n",
    "print(group_distribution)\n",
    "\n",
    "print(\"\\nUnique values in each column:\")\n",
    "for column in df.columns:\n",
    "    unique_count = df[column].nunique()\n",
    "    print(f\"{column}: {unique_count} unique values\")"
   ]
  },
  {
   "cell_type": "markdown",
   "id": "fc937667-8593-4e2b-a22e-994f972146ba",
   "metadata": {},
   "source": [
    "## Conversion Rate Analysis "
   ]
  },
  {
   "cell_type": "code",
   "execution_count": 6,
   "id": "6f7bf362-4049-4ca4-a384-6a31472a790e",
   "metadata": {},
   "outputs": [
    {
     "name": "stdout",
     "output_type": "stream",
     "text": [
      "Conversion rate analysis by test group:\n",
      "            total_users  conversions  conversion_rate  conversion_percentage\n",
      "test_group                                                                  \n",
      "ad               564577        14423         0.025547                   2.55\n",
      "psa               23524          420         0.017854                   1.79\n"
     ]
    }
   ],
   "source": [
    "# Calculate conversion rates for each test group\n",
    "print(\"Conversion rate analysis by test group:\")\n",
    "conversion_analysis = df.groupby('test_group').agg({\n",
    "    'converted': ['count', 'sum', 'mean']\n",
    "})\n",
    "\n",
    "# Format the results for better readability\n",
    "conversion_analysis.columns = ['total_users', 'conversions', 'conversion_rate']\n",
    "conversion_analysis['conversion_percentage'] = (conversion_analysis['conversion_rate'] * 100).round(2)\n",
    "\n",
    "print(conversion_analysis)"
   ]
  },
  {
   "cell_type": "markdown",
   "id": "7caa299b-3029-46b7-a3ec-aee287b1858a",
   "metadata": {},
   "source": [
    "## Initial Visualizations"
   ]
  },
  {
   "cell_type": "code",
   "execution_count": 7,
   "id": "304c998c-ef6d-4a19-813c-7d700fe77ebf",
   "metadata": {},
   "outputs": [
    {
     "name": "stdout",
     "output_type": "stream",
     "text": [
      "Creating initial visualizations\n"
     ]
    },
    {
     "data": {
      "image/png": "[encoded data removed]",
      "text/plain": [
       "<Figure size 1500x500 with 2 Axes>"
      ]
     },
     "metadata": {},
     "output_type": "display_data"
    },
    {
     "name": "stdout",
     "output_type": "stream",
     "text": [
      "\n",
      "Summary Statistics:\n",
      "Total users in experiment: 588,101\n",
      "Total conversions: 14,843\n",
      "Overall conversion rate: 2.52%\n"
     ]
    }
   ],
   "source": [
    "# Create visualizations to understand the data\n",
    "print(\"Creating initial visualizations\")\n",
    "\n",
    "# Set up the plotting style\n",
    "plt.style.use('seaborn-v0_8')\n",
    "fig, axes = plt.subplots(1, 2, figsize=(15, 5))\n",
    "\n",
    "# Plot 1: Conversion rates by test group\n",
    "conversion_rates = df.groupby('test_group')['converted'].mean()\n",
    "axes[0].bar(conversion_rates.index, conversion_rates.values, color=['lightblue', 'lightcoral'])\n",
    "axes[0].set_title('Conversion Rates by Test Group')\n",
    "axes[0].set_ylabel('Conversion Rate')\n",
    "axes[0].set_xlabel('Test Group')\n",
    "\n",
    "# Add value labels on bars\n",
    "for i, v in enumerate(conversion_rates.values):\n",
    "    axes[0].text(i, v + 0.001, f'{v:.3f}', ha='center', va='bottom')\n",
    "\n",
    "# Plot 2: User distribution by test group\n",
    "group_counts = df['test_group'].value_counts()\n",
    "axes[1].bar(group_counts.index, group_counts.values, color=['lightgreen', 'orange'])\n",
    "axes[1].set_title('User Distribution by Test Group')\n",
    "axes[1].set_ylabel('Number of Users')\n",
    "axes[1].set_xlabel('Test Group')\n",
    "\n",
    "# Add value labels on bars\n",
    "for i, v in enumerate(group_counts.values):\n",
    "    axes[1].text(i, v + 50, str(v), ha='center', va='bottom')\n",
    "\n",
    "plt.tight_layout()\n",
    "plt.show()\n",
    "\n",
    "# Print summary statistics\n",
    "total_users = len(df)\n",
    "total_conversions = df['converted'].sum()\n",
    "overall_conversion_rate = (total_conversions / total_users) * 100\n",
    "\n",
    "print(f\"\\nSummary Statistics:\")\n",
    "print(f\"Total users in experiment: {total_users:,}\")\n",
    "print(f\"Total conversions: {total_conversions:,}\")\n",
    "print(f\"Overall conversion rate: {overall_conversion_rate:.2f}%\")"
   ]
  },
  {
   "cell_type": "markdown",
   "id": "e0693fbe-2151-420a-bb44-f7680ba2ef42",
   "metadata": {},
   "source": [
    "##  Save Cleaned Data"
   ]
  },
  {
   "cell_type": "code",
   "execution_count": 8,
   "id": "bff688c3-6b2c-4c90-b75e-e6984c23fd48",
   "metadata": {},
   "outputs": [
    {
     "name": "stdout",
     "output_type": "stream",
     "text": [
      "Cleaned data saved to '../data/marketing_AB_cleaned.csv'\n"
     ]
    }
   ],
   "source": [
    "df.to_csv('../data/marketing_AB_cleaned.csv', index=False)\n",
    "print(\"Cleaned data saved to '../data/marketing_AB_cleaned.csv'\")"
   ]
  },
  {
   "cell_type": "code",
   "execution_count": null,
   "id": "36f78892-3c69-42f0-928e-04cb579a4a3e",
   "metadata": {},
   "outputs": [],
   "source": []
  }
 ],
 "metadata": {
  "kernelspec": {
   "display_name": "Python 3 (ipykernel)",
   "language": "python",
   "name": "python3"
  },
  "language_info": {
   "codemirror_mode": {
    "name": "ipython",
    "version": 3
   },
   "file_extension": ".py",
   "mimetype": "text/x-python",
   "name": "python",
   "nbconvert_exporter": "python",
   "pygments_lexer": "ipython3",
   "version": "3.9.23"
  }
 },
 "nbformat": 4,
 "nbformat_minor": 5
}
