{
 "cells": [
  {
   "cell_type": "markdown",
   "id": "0f4d0d76-2788-4a8e-9b15-4cd162241447",
   "metadata": {},
   "source": [
    "# Statistical Analysis"
   ]
  },
  {
   "cell_type": "markdown",
   "id": "ad09b766-5499-49df-95ad-5d11ed63c2fd",
   "metadata": {},
   "source": [
    "##  Setup and Data Loading"
   ]
  },
  {
   "cell_type": "code",
   "execution_count": 3,
   "id": "f30d339a-b37e-49be-8a7d-3dc7d6b17617",
   "metadata": {},
   "outputs": [
    {
     "name": "stdout",
     "output_type": "stream",
     "text": [
      "Starting Statistical Analysis\n",
      "Loading cleaned dataset\n",
      "Dataset loaded successfully: 588,101 rows, 7 columns\n"
     ]
    }
   ],
   "source": [
    "import pandas as pd\n",
    "import numpy as np\n",
    "import matplotlib.pyplot as plt\n",
    "import seaborn as sns\n",
    "from scipy.stats import norm\n",
    "import math\n",
    "import os\n",
    "\n",
    "print(\"Starting Statistical Analysis\")\n",
    "print(\"Loading cleaned dataset\")\n",
    "\n",
    "# Load the cleaned data \n",
    "df = pd.read_csv('../data/marketing_AB_cleaned.csv')\n",
    "print(f\"Dataset loaded successfully: {df.shape[0]:,} rows, {df.shape[1]} columns\")"
   ]
  },
  {
   "cell_type": "markdown",
   "id": "5d08708f-2ad7-42f7-9ac8-51a715960ec5",
   "metadata": {},
   "source": [
    "## Data Verification"
   ]
  },
  {
   "cell_type": "code",
   "execution_count": 4,
   "id": "9bc34c5a-64dd-4195-adf5-10eaf26025eb",
   "metadata": {},
   "outputs": [
    {
     "name": "stdout",
     "output_type": "stream",
     "text": [
      "Preparing data for statistical analysis\n",
      "Converting 'converted' column from boolean to integer\n",
      "Columns in dataset: ['unnamed:_0', 'user_id', 'test_group', 'converted', 'total_ads', 'most_ads_day', 'most_ads_hour']\n",
      "Data types:\n",
      "unnamed:_0        int64\n",
      "user_id           int64\n",
      "test_group       object\n",
      "converted         int64\n",
      "total_ads         int64\n",
      "most_ads_day     object\n",
      "most_ads_hour     int64\n",
      "dtype: object\n",
      "\n",
      "Conversion column sample values: [0, 0, 0, 0, 0]\n",
      "Conversion column type: int64\n",
      "\n",
      "Test groups distribution:\n",
      "test_group\n",
      "ad     564577\n",
      "psa     23524\n",
      "Name: count, dtype: int64\n",
      "Removed unnecessary index column\n",
      "Data preparation completed successfully\n"
     ]
    }
   ],
   "source": [
    "#Convert data types and ensure data is ready for statistical analysis\n",
    "\n",
    "print(\"Preparing data for statistical analysis\")\n",
    "\n",
    "# Convert boolean 'converted' column to integer (1 for True, 0 for False)\n",
    "print(\"Converting 'converted' column from boolean to integer\")\n",
    "df['converted'] = df['converted'].astype(int)\n",
    "\n",
    "print(f\"Columns in dataset: {df.columns.tolist()}\")\n",
    "print(f\"Data types:\\n{df.dtypes}\")\n",
    "\n",
    "# Check that conversion column is now numeric\n",
    "print(f\"\\nConversion column sample values: {df['converted'].head().tolist()}\")\n",
    "print(f\"Conversion column type: {df['converted'].dtype}\")\n",
    "\n",
    "# Verify test groups\n",
    "print(f\"\\nTest groups distribution:\")\n",
    "print(df['test_group'].value_counts())\n",
    "\n",
    "# Remove unnecessary index column if it exists\n",
    "if 'unnamed:_0' in df.columns:\n",
    "    df = df.drop('unnamed:_0', axis=1)\n",
    "    print(\"Removed unnecessary index column\")\n",
    "\n",
    "print(\"Data preparation completed successfully\")"
   ]
  },
  {
   "cell_type": "markdown",
   "id": "58cdf94c-caad-4c7e-8709-de221de6b372",
   "metadata": {},
   "source": [
    "## Calculate Basic Metrics"
   ]
  },
  {
   "cell_type": "code",
   "execution_count": 5,
   "id": "6e9f16af-f784-47b0-a9e9-b0ba0c78ace8",
   "metadata": {},
   "outputs": [
    {
     "name": "stdout",
     "output_type": "stream",
     "text": [
      "Calculating conversion metrics\n",
      "Conversion Summary by Test Group:\n",
      "            user_count  conversions  conversion_rate  conversion_percentage\n",
      "test_group                                                                 \n",
      "ad              564577        14423         0.025547                   2.55\n",
      "psa              23524          420         0.017854                   1.79\n",
      "\n",
      "Key Metrics:\n",
      "Ad Group: 14,423 conversions out of 564,577 users (2.555%)\n",
      "PSA Group: 420 conversions out of 23,524 users (1.785%)\n",
      "\n",
      "Performance Difference:\n",
      "Absolute difference: 0.0077\n",
      "Relative improvement: 43.1%\n"
     ]
    }
   ],
   "source": [
    "# Compute conversion rates and differences between groups\n",
    "\n",
    "print(\"Calculating conversion metrics\")\n",
    "\n",
    "# Group data and calculate metrics\n",
    "conversion_summary = df.groupby('test_group').agg({\n",
    "    'user_id': 'count',\n",
    "    'converted': ['sum', 'mean']\n",
    "})\n",
    "\n",
    "# Clean up the column names\n",
    "conversion_summary.columns = ['user_count', 'conversions', 'conversion_rate']\n",
    "conversion_summary['conversion_percentage'] = (conversion_summary['conversion_rate'] * 100).round(2)\n",
    "\n",
    "print(\"Conversion Summary by Test Group:\")\n",
    "print(conversion_summary)\n",
    "\n",
    "# Extract values for calculations\n",
    "ad_users = conversion_summary.loc['ad', 'user_count']\n",
    "ad_conversions = conversion_summary.loc['ad', 'conversions']\n",
    "ad_rate = conversion_summary.loc['ad', 'conversion_rate']\n",
    "\n",
    "psa_users = conversion_summary.loc['psa', 'user_count']\n",
    "psa_conversions = conversion_summary.loc['psa', 'conversions']\n",
    "psa_rate = conversion_summary.loc['psa', 'conversion_rate']\n",
    "\n",
    "print(f\"\\nKey Metrics:\")\n",
    "print(f\"Ad Group: {ad_conversions:,} conversions out of {ad_users:,} users ({ad_rate:.3%})\")\n",
    "print(f\"PSA Group: {psa_conversions:,} conversions out of {psa_users:,} users ({psa_rate:.3%})\")\n",
    "\n",
    "# Calculate differences to measure improvements\n",
    "absolute_difference = ad_rate - psa_rate\n",
    "relative_difference = (absolute_difference / psa_rate) * 100\n",
    "\n",
    "print(f\"\\nPerformance Difference:\")\n",
    "print(f\"Absolute difference: {absolute_difference:.4f}\")\n",
    "print(f\"Relative improvement: {relative_difference:.1f}%\")"
   ]
  },
  {
   "cell_type": "markdown",
   "id": "5aaf5ca3-6fe5-47d2-8c42-de4b5fce5a82",
   "metadata": {},
   "source": [
    "##  Perform Statistical Significance Test"
   ]
  },
  {
   "cell_type": "code",
   "execution_count": 6,
   "id": "1f27f0ff-0c9a-4ccd-be31-76d898aadbf3",
   "metadata": {},
   "outputs": [
    {
     "name": "stdout",
     "output_type": "stream",
     "text": [
      "Performing statistical significance test\n",
      "Pooled conversion rate: 0.0252\n",
      "Standard error: 0.001044\n",
      "Z-score: 7.3701\n",
      "P-value: 0.000000\n",
      "\n",
      "Statistical Interpretation:\n",
      "Significance level: 0.05\n",
      "Statistically significant: True\n",
      "CONCLUSION: The difference in conversion rates is STATISTICALLY SIGNIFICANT\n",
      "We can be confident that the Ad group performs differently from the PSA group\n"
     ]
    }
   ],
   "source": [
    "# Use Z-test to determine if the difference is statistically significant\n",
    "\n",
    "print(\"Performing statistical significance test\")\n",
    "\n",
    "# Calculate pooled probability (assuming null hypothesis is true)\n",
    "pooled_conversion_rate = (ad_conversions + psa_conversions) / (ad_users + psa_users)\n",
    "print(f\"Pooled conversion rate: {pooled_conversion_rate:.4f}\")\n",
    "\n",
    "# Calculate standard error\n",
    "standard_error = math.sqrt(\n",
    "    pooled_conversion_rate * (1 - pooled_conversion_rate) * \n",
    "    (1/ad_users + 1/psa_users)\n",
    ")\n",
    "\n",
    "print(f\"Standard error: {standard_error:.6f}\")\n",
    "\n",
    "# Calculate Z-score\n",
    "z_score = (ad_rate - psa_rate) / standard_error\n",
    "print(f\"Z-score: {z_score:.4f}\")\n",
    "\n",
    "# Calculate P-value (two-tailed test)\n",
    "p_value = 2 * (1 - norm.cdf(abs(z_score)))\n",
    "print(f\"P-value: {p_value:.6f}\")\n",
    "\n",
    "# Interpret results\n",
    "significance_level = 0.05\n",
    "is_significant = p_value < significance_level\n",
    "\n",
    "print(f\"\\nStatistical Interpretation:\")\n",
    "print(f\"Significance level: {significance_level}\")\n",
    "print(f\"Statistically significant: {is_significant}\")\n",
    "\n",
    "if is_significant:\n",
    "    print(\"CONCLUSION: The difference in conversion rates is STATISTICALLY SIGNIFICANT\")\n",
    "    print(\"We can be confident that the Ad group performs differently from the PSA group\")\n",
    "else:\n",
    "    print(\"CONCLUSION: The difference in conversion rates is NOT statistically significant\")\n",
    "    print(\"The observed difference could be due to random chance\")"
   ]
  },
  {
   "cell_type": "code",
   "execution_count": 11,
   "id": "e8ecb440-ea71-45fc-bbb9-9526ec48bfd7",
   "metadata": {},
   "outputs": [
    {
     "name": "stdout",
     "output_type": "stream",
     "text": [
      "Calculating confidence intervals\n",
      "Difference in conversion rates: 0.0077\n",
      "95% Confidence Interval: [0.0056, 0.0097]\n",
      "Z-critical value for 95% confidence: 1.96\n",
      "\n",
      "Confidence Interval Interpretation:\n",
      "  - The confidence interval does not include zero\n",
      "  - This strongly supports that Ad group performs better than PSA group\n",
      "  -  We can be 95% confident that the true improvement is between 0.0056 and 0.0097\n",
      "\n",
      "Relative Improvement Range:\n",
      "We can be 95% confident that the true relative improvement\n",
      "is between 31.6% and 54.5%\n"
     ]
    }
   ],
   "source": [
    "#Calculate the range where the true difference likely falls\n",
    "\n",
    "print(\"Calculating confidence intervals\")\n",
    "\n",
    "# Point estimate of the difference\n",
    "difference = ad_rate - psa_rate\n",
    "\n",
    "# 95% Confidence Interval\n",
    "confidence_level = 0.95\n",
    "z_critical = norm.ppf(1 - (1 - confidence_level) / 2)\n",
    "\n",
    "confidence_lower = difference - z_critical * standard_error\n",
    "confidence_upper = difference + z_critical * standard_error\n",
    "\n",
    "print(f\"Difference in conversion rates: {difference:.4f}\")\n",
    "print(f\"{confidence_level:.0%} Confidence Interval: [{confidence_lower:.4f}, {confidence_upper:.4f}]\")\n",
    "print(f\"Z-critical value for {confidence_level:.0%} confidence: {z_critical:.2f}\")\n",
    "\n",
    "# Interpret confidence interval\n",
    "print(f\"\\nConfidence Interval Interpretation:\")\n",
    "if confidence_lower > 0:\n",
    "    print(\"  - The confidence interval does not include zero\")\n",
    "    print(\"  - This strongly supports that Ad group performs better than PSA group\")\n",
    "    print(f\"  -  We can be {confidence_level:.0%} confident that the true improvement is between {confidence_lower:.4f} and {confidence_upper:.4f}\")\n",
    "elif confidence_upper < 0:\n",
    "    print(\"The confidence interval does not include zero\") \n",
    "    print(\"This supports the conclusion that PSA group performs better than Ad group\")\n",
    "else:\n",
    "    print(\"The confidence interval includes zero\")\n",
    "    print(\"We cannot be confident about which group performs better\")\n",
    "\n",
    "# Calculate the relative improvement range\n",
    "relative_lower = (confidence_lower / psa_rate) * 100\n",
    "relative_upper = (confidence_upper / psa_rate) * 100\n",
    "\n",
    "print(f\"\\nRelative Improvement Range:\")\n",
    "print(f\"We can be {confidence_level:.0%} confident that the true relative improvement\")\n",
    "print(f\"is between {relative_lower:.1f}% and {relative_upper:.1f}%\")"
   ]
  },
  {
   "cell_type": "markdown",
   "id": "c2f6a451-b54e-4be7-92d8-ebf8c376a33f",
   "metadata": {},
   "source": [
    "## Create Statistical Visualizations\n"
   ]
  },
  {
   "cell_type": "code",
   "execution_count": 13,
   "id": "794cba85-fde4-4eb4-a8c3-1503af47bd9e",
   "metadata": {},
   "outputs": [
    {
     "name": "stdout",
     "output_type": "stream",
     "text": [
      "Creating statistical visualizations\n"
     ]
    },
    {
     "data": {
      "image/png": "[encoded data removed]",
      "text/plain": [
       "<Figure size 1500x500 with 2 Axes>"
      ]
     },
     "metadata": {},
     "output_type": "display_data"
    }
   ],
   "source": [
    "# Create charts to visualize the statistical findings\n",
    "\n",
    "print(\"Creating statistical visualizations\")\n",
    "\n",
    "# Set up the figure with two subplots\n",
    "fig, (ax1, ax2) = plt.subplots(1, 2, figsize=(15, 5))\n",
    "\n",
    "# Plot 1: Conversion rates with error bars\n",
    "groups = ['PSA', 'Ad']\n",
    "conversion_rates = [psa_rate, ad_rate]\n",
    "\n",
    "# Calculate standard errors for each group\n",
    "se_ad = math.sqrt(ad_rate * (1 - ad_rate) / ad_users)\n",
    "se_psa = math.sqrt(psa_rate * (1 - psa_rate) / psa_users)\n",
    "standard_errors = [se_psa, se_ad]\n",
    "\n",
    "# Create bar plot with error bars\n",
    "bars = ax1.bar(groups, conversion_rates, yerr=standard_errors, \n",
    "               capsize=8, color=['lightcoral', 'lightblue'], \n",
    "               edgecolor='black', linewidth=0.5)\n",
    "\n",
    "ax1.set_title('Conversion Rates by Test Group\\n(with Standard Errors)', fontsize=14, fontweight='bold')\n",
    "ax1.set_ylabel('Conversion Rate', fontsize=12)\n",
    "ax1.set_xlabel('Test Group', fontsize=12)\n",
    "ax1.grid(axis='y', alpha=0.3)\n",
    "\n",
    "# Add value labels on bars\n",
    "for bar, rate in zip(bars, conversion_rates):\n",
    "    height = bar.get_height()\n",
    "    ax1.text(bar.get_x() + bar.get_width()/2., height + 0.001,\n",
    "             f'{rate:.3f}', ha='center', va='bottom', fontweight='bold')\n",
    "\n",
    "# Plot 2: Confidence interval for the difference\n",
    "ax2.axhline(y=0, color='red', linestyle='--', alpha=0.7, label='No Difference')\n",
    "ax2.errorbar(x=['Ad - PSA Difference'], y=[difference], \n",
    "             yerr=[[difference - confidence_lower], [confidence_upper - difference]], \n",
    "             fmt='o', capsize=8, markersize=10, color='green', linewidth=2)\n",
    "\n",
    "ax2.set_title('Difference in Conversion Rates\\n(95% Confidence Interval)', fontsize=14, fontweight='bold')\n",
    "ax2.set_ylabel('Difference (Ad - PSA)', fontsize=12)\n",
    "ax2.grid(True, alpha=0.3)\n",
    "\n",
    "# Add value labels and zero reference\n",
    "ax2.text(0, difference + 0.0002, f'{difference:.4f}', ha='center', va='bottom', fontweight='bold')\n",
    "ax2.legend()\n",
    "\n",
    "plt.tight_layout()\n",
    "plt.show()"
   ]
  },
  {
   "cell_type": "markdown",
   "id": "6dcd38a6-bdf8-44e3-8d7b-f16d8be1d0b5",
   "metadata": {},
   "source": [
    "# Statistical Analysis Summary"
   ]
  },
  {
   "cell_type": "code",
   "execution_count": 14,
   "id": "f6586a92-30c9-4865-8b18-7fa4aaabfeae",
   "metadata": {},
   "outputs": [
    {
     "name": "stdout",
     "output_type": "stream",
     "text": [
      "STATISTICAL ANALYSIS SUMMARY\n",
      "Experiment Overview:\n",
      "- Total users: 588,101\n",
      "- Ad group: 564,577 users (2.555% conversion)\n",
      "- PSA group: 23,524 users (1.785% conversion)\n",
      "\n",
      "Key Statistical Findings:\n",
      "- Absolute difference: 0.0077\n",
      "- Relative improvement: 43.1%\n",
      "- P-value: 0.000000 (Highly Significant)\n",
      "- Z-score: 7.37 (Very Strong Evidence)\n",
      "\n",
      "Confidence Interval Analysis:\n",
      "- 95% CI for difference: [0.0056, 0.0097]\n",
      "- Relative improvement range: 31.6% to 54.5%\n",
      "\n",
      "Business Recommendation:\n",
      "RECOMMENDATION: Implement Ad group campaign\n",
      "REASON: Statistically significant improvement with 95% confidence\n",
      "EXPECTED BENEFIT: 43.1% increase in conversions\n",
      "CONFIDENCE RANGE: 31.6% to 54.5% improvement\n",
      "\n",
      "Statistical Notes:\n",
      "- P-value < 0.000001 indicates extremely strong evidence\n",
      "- Confidence interval excludes zero, confirming significance\n",
      "- Large sample size provides high confidence in results\n"
     ]
    }
   ],
   "source": [
    "# Provide business-friendly summary of findings\n",
    "\n",
    "print(\"STATISTICAL ANALYSIS SUMMARY\")\n",
    "\n",
    "print(f\"Experiment Overview:\")\n",
    "print(f\"- Total users: {len(df):,}\")\n",
    "print(f\"- Ad group: {ad_users:,} users ({ad_rate:.3%} conversion)\")\n",
    "print(f\"- PSA group: {psa_users:,} users ({psa_rate:.3%} conversion)\")\n",
    "\n",
    "print(f\"\\nKey Statistical Findings:\")\n",
    "print(f\"- Absolute difference: {absolute_difference:.4f}\")\n",
    "print(f\"- Relative improvement: {relative_difference:.1f}%\")\n",
    "print(f\"- P-value: {p_value:.6f} (Highly Significant)\")\n",
    "print(f\"- Z-score: {z_score:.2f} (Very Strong Evidence)\")\n",
    "\n",
    "print(f\"\\nConfidence Interval Analysis:\")\n",
    "print(f\"- 95% CI for difference: [{confidence_lower:.4f}, {confidence_upper:.4f}]\")\n",
    "print(f\"- Relative improvement range: {relative_lower:.1f}% to {relative_upper:.1f}%\")\n",
    "\n",
    "print(f\"\\nBusiness Recommendation:\")\n",
    "print(\"RECOMMENDATION: Implement Ad group campaign\")\n",
    "print(\"REASON: Statistically significant improvement with 95% confidence\")\n",
    "print(f\"EXPECTED BENEFIT: {relative_difference:.1f}% increase in conversions\")\n",
    "print(f\"CONFIDENCE RANGE: 31.6% to 54.5% improvement\")\n",
    "\n",
    "print(f\"\\nStatistical Notes:\")\n",
    "print(\"- P-value < 0.000001 indicates extremely strong evidence\")\n",
    "print(\"- Confidence interval excludes zero, confirming significance\")\n",
    "print(\"- Large sample size provides high confidence in results\")"
   ]
  },
  {
   "cell_type": "code",
   "execution_count": null,
   "id": "54f91b1b-4811-4cac-ab49-88e5eb882f69",
   "metadata": {},
   "outputs": [],
   "source": []
  }
 ],
 "metadata": {
  "kernelspec": {
   "display_name": "Python 3 (ipykernel)",
   "language": "python",
   "name": "python3"
  },
  "language_info": {
   "codemirror_mode": {
    "name": "ipython",
    "version": 3
   },
   "file_extension": ".py",
   "mimetype": "text/x-python",
   "name": "python",
   "nbconvert_exporter": "python",
   "pygments_lexer": "ipython3",
   "version": "3.9.23"
  }
 },
 "nbformat": 4,
 "nbformat_minor": 5
}
